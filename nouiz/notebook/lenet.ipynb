{
 "cells": [
  {
   "cell_type": "markdown",
   "metadata": {},
   "source": [
    "This notebook demonstrates and allows you to play with the LeNet model.\n",
    "\n",
    "The first cell loads the example in a new cell. Execute it.\n",
    "\n",
    "Then, you can look at that example and run it to define the model.\n",
    "\n",
    "Next, there is a cell that runs the model. It allows you to play with some of the hyper-parameters.\n",
    "\n",
    "You can change the example code itself. You can reload the original code in a new cell by running the `load` cell again.\n",
    "\n",
    "This example takes about 9m to execute on a GTX750 Ti with CuDNN v5.\n",
    "\n",
    "To see the other files used by lenet.py run in a new cell: `%load logistic_sgd.py` or `%load mlp.py`.\n",
    "\n",
    "Two possible changes you could try:\n",
    "- change the non linearity of the convolution to a rectifier unit,\n",
    "- add an extra mlp layer,\n",
    "- limit the number of training epochs to iterate more rapidly on code change."
   ]
  },
  {
   "cell_type": "code",
   "execution_count": null,
   "metadata": {
    "collapsed": false
   },
   "outputs": [],
   "source": [
    "%load lenet.py"
   ]
  },
  {
   "cell_type": "code",
   "execution_count": null,
   "metadata": {
    "collapsed": false
   },
   "outputs": [],
   "source": [
    "evaluate_lenet5(learning_rate=0.1, n_epochs=200,\n",
    "                dataset='mnist.pkl.gz',\n",
    "                nkerns=[20, 50], batch_size=500)"
   ]
  }
 ],
 "metadata": {
  "kernelspec": {
   "display_name": "Python 3",
   "language": "python",
   "name": "python3"
  },
  "language_info": {
   "codemirror_mode": {
    "name": "ipython",
    "version": 3
   },
   "file_extension": ".py",
   "mimetype": "text/x-python",
   "name": "python",
   "nbconvert_exporter": "python",
   "pygments_lexer": "ipython3",
   "version": "3.4.3"
  }
 },
 "nbformat": 4,
 "nbformat_minor": 0
}
