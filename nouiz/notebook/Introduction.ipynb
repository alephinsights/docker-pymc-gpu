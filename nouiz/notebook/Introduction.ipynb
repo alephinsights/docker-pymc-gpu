{
 "cells": [
  {
   "cell_type": "markdown",
   "metadata": {},
   "source": [
    "This directory contains ipython notebooks for a Theano hands-on lab:\n",
    "\n",
    "- Introduction (this notebook): introductory notebook\n",
    "- Exercices: notebook that contains exercices specific to Theano without machine learning\n",
    "- lenet: notebook that demonstrates the LeNet (basic convolutional example) model\n",
    "\n",
    "The slides are available at https://github.com/nouiz/gtc2016/raw/master/S6116_FredericBastien.pdf\n",
    "\n",
    "GitHub repository: https://github.com/nouiz/gtc2016\n",
    "\n",
    "See the top of the notebook for explanation regarding how they should be used.\n",
    "\n",
    "You can run a cell that contains code with CTRL-enter when that cell is selected"
   ]
  }
 ],
 "metadata": {
  "kernelspec": {
   "display_name": "Python 3",
   "language": "python",
   "name": "python3"
  },
  "language_info": {
   "codemirror_mode": {
    "name": "ipython",
    "version": 3
   },
   "file_extension": ".py",
   "mimetype": "text/x-python",
   "name": "python",
   "nbconvert_exporter": "python",
   "pygments_lexer": "ipython3",
   "version": "3.4.3"
  }
 },
 "nbformat": 4,
 "nbformat_minor": 0
}
